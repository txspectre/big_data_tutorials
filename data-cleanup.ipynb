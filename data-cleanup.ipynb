{
 "cells": [
  {
   "cell_type": "code",
   "execution_count": 12,
   "metadata": {},
   "outputs": [
    {
     "data": {
      "text/plain": [
       "import org.apache.spark.mllib.linalg.Vectors\n",
       "import org.apache.spark.ml.feature.MinMaxScaler\n",
       "import org.apache.spark.sql.functions.udf\n",
       "import org.apache.spark.ml.feature.VectorAssembler\n",
       "import org.apache.spark.sql.types.{DoubleType, DateType}\n"
      ]
     },
     "execution_count": 12,
     "metadata": {},
     "output_type": "execute_result"
    }
   ],
   "source": [
    "import org.apache.spark.mllib.linalg.Vectors\n",
    "import org.apache.spark.ml.feature.MinMaxScaler\n",
    "import org.apache.spark.sql.functions.udf\n",
    "import org.apache.spark.ml.feature.VectorAssembler\n",
    "import org.apache.spark.sql.types.{DoubleType, DateType}"
   ]
  },
  {
   "cell_type": "code",
   "execution_count": 2,
   "metadata": {},
   "outputs": [
    {
     "data": {
      "text/plain": [
       "weather_org_df: org.apache.spark.sql.DataFrame = [Date: timestamp, Location: string ... 23 more fields]\n"
      ]
     },
     "execution_count": 2,
     "metadata": {},
     "output_type": "execute_result"
    }
   ],
   "source": [
    "val weather_org_df = spark.\n",
    "        read.\n",
    "        option(\"inferSchema\", \"true\").\n",
    "        option(\"header\",\"true\").\n",
    "        option(\"mode\",\"DROPMALFORMED\").\n",
    "        option(\"delimiter\", \",\").\n",
    "        csv(\"wrangle_final_for_yury.csv\")"
   ]
  },
  {
   "cell_type": "code",
   "execution_count": 3,
   "metadata": {},
   "outputs": [],
   "source": [
    "weather_org_df.registerTempTable(\"Aus_Rain_Data\")"
   ]
  },
  {
   "cell_type": "code",
   "execution_count": 4,
   "metadata": {},
   "outputs": [
    {
     "data": {
      "text/plain": [
       "df0: org.apache.spark.sql.DataFrame = [Date: timestamp, Location: string ... 23 more fields]\n"
      ]
     },
     "execution_count": 4,
     "metadata": {},
     "output_type": "execute_result"
    }
   ],
   "source": [
    "val df0 = spark.sql(\"select * from Aus_Rain_Data\")"
   ]
  },
  {
   "cell_type": "code",
   "execution_count": null,
   "metadata": {},
   "outputs": [],
   "source": []
  },
  {
   "cell_type": "code",
   "execution_count": 5,
   "metadata": {},
   "outputs": [
    {
     "data": {
      "text/plain": [
       "df1: org.apache.spark.sql.DataFrame = [Date: timestamp, Location: string ... 24 more fields]\n",
       "df2: org.apache.spark.sql.DataFrame = [Date: timestamp, Location: string ... 25 more fields]\n"
      ]
     },
     "execution_count": 5,
     "metadata": {},
     "output_type": "execute_result"
    }
   ],
   "source": [
    "val df1 = df0.withColumn(\"RainToday_Sc\", when(lower(df0(\"RainToday\"))  === \"yes\", 1).otherwise(0))\n",
    "/*    .drop(\"RainToday\")\n",
    "    .withColumnRenamed(\"RainToday_Sc\", \"RainToday\") */\n",
    "val df2 = df1.withColumn(\"RainTomorrow_Sc\", when(lower(df1(\"RainTomorrow\"))  === \"yes\", 1).otherwise(0))\n",
    "/*    .drop(\"RainTomorrow\")\n",
    "    .withColumnRenamed(\"RainTomorrow_Sc\", \"RainTomorrow\") */"
   ]
  },
  {
   "cell_type": "code",
   "execution_count": null,
   "metadata": {},
   "outputs": [],
   "source": []
  },
  {
   "cell_type": "code",
   "execution_count": 6,
   "metadata": {},
   "outputs": [
    {
     "data": {
      "text/plain": [
       "df3: org.apache.spark.sql.DataFrame = [Date: timestamp, Location: string ... 25 more fields]\n",
       "df4: org.apache.spark.sql.DataFrame = [Date: timestamp, Location: string ... 25 more fields]\n"
      ]
     },
     "execution_count": 6,
     "metadata": {},
     "output_type": "execute_result"
    }
   ],
   "source": [
    "val df3 = df2.withColumn(\"Pressure9am_Sc\", df2(\"Pressure9am\").cast(DoubleType))\n",
    "    .drop(\"Pressure9am\")\n",
    "    .withColumnRenamed(\"Pressure9am_Sc\", \"Pressure9am\")\n",
    "\n",
    "val df4 = df3.withColumn(\"Pressure3pm_Sc\", df3(\"Pressure3pm\").cast(DoubleType))\n",
    "    .drop(\"Pressure3pm\")\n",
    "    .withColumnRenamed(\"Pressure3pm_Sc\", \"Pressure3pm\") "
   ]
  },
  {
   "cell_type": "code",
   "execution_count": 7,
   "metadata": {},
   "outputs": [
    {
     "name": "stdout",
     "output_type": "stream",
     "text": [
      "2020-06-04 12:57:08,571 WARN  [Thread-4] util.Utils (Logging.scala:logWarning(66)) - Truncated the string representation of a plan since it was too large. This behavior can be adjusted by setting 'spark.debug.maxToStringFields' in SparkEnv.conf.\n"
     ]
    },
    {
     "data": {
      "text/plain": [
       "min_P9am: Double = 980.5\n",
       "max_P9am: Double = 1041.0\n"
      ]
     },
     "execution_count": 7,
     "metadata": {},
     "output_type": "execute_result"
    }
   ],
   "source": [
    "val min_P9am = df4.agg(min(\"Pressure9am\") as \"min_P9am\").select(col(\"min_P9am\")).first.getDouble(0)\n",
    "val max_P9am = df4.agg(max(\"Pressure9am\") as \"max_P9am\").select(col(\"max_P9am\")).first.getDouble(0)"
   ]
  },
  {
   "cell_type": "code",
   "execution_count": 8,
   "metadata": {},
   "outputs": [
    {
     "data": {
      "text/plain": [
       "min_P3pm: Double = 977.1\n",
       "max_P3pm: Double = 1039.6\n"
      ]
     },
     "execution_count": 8,
     "metadata": {},
     "output_type": "execute_result"
    }
   ],
   "source": [
    "val min_P3pm = df4.agg(min(\"Pressure3pm\") as \"min_P3pm\").select(col(\"min_P3pm\")).first.getDouble(0)\n",
    "val max_P3pm = df4.agg(max(\"Pressure3pm\") as \"max_P3pm\").select(col(\"max_P3pm\")).first.getDouble(0)"
   ]
  },
  {
   "cell_type": "code",
   "execution_count": 9,
   "metadata": {},
   "outputs": [
    {
     "data": {
      "text/plain": [
       "minPRange: Int = 0\n",
       "maxPRange: Int = 1\n"
      ]
     },
     "execution_count": 9,
     "metadata": {},
     "output_type": "execute_result"
    }
   ],
   "source": [
    "val minPRange = 0    //from the report  /* 0 970.0\n",
    "val maxPRange = 1   //from the report  /* 1 970.0"
   ]
  },
  {
   "cell_type": "markdown",
   "metadata": {},
   "source": [
    "\\begin{equation}\n",
    "  Rescaled_{9am} = \\frac{Pressure_i - Pressure_{min9am}}{Pressure_{max9am} - Pressure_{min9am}} * (maxPressureRange - minPressureRange) + minPressureRange\n",
    "\\end{equation}"
   ]
  },
  {
   "cell_type": "code",
   "execution_count": 10,
   "metadata": {},
   "outputs": [
    {
     "data": {
      "text/plain": [
       "df5: org.apache.spark.sql.DataFrame = [Date: timestamp, Location: string ... 26 more fields]\n",
       "df6: org.apache.spark.sql.DataFrame = [Date: timestamp, Location: string ... 27 more fields]\n"
      ]
     },
     "execution_count": 10,
     "metadata": {},
     "output_type": "execute_result"
    }
   ],
   "source": [
    "val df5 = df4.withColumn(\"Pressure3pm_Sc\", \n",
    "    (((df4(\"Pressure3pm\") - min_P3pm) / (max_P3pm -min_P3pm)) * (maxPRange - minPRange)) + minPRange)\n",
    "/*    .drop(\"Pressure3pm\")\n",
    "    .withColumnRenamed(\"Pressure3pmTmp\", \"Pressure3pm\") */\n",
    "val df6 = df5.withColumn(\"Pressure9am_Sc\", \n",
    "    (((df5(\"Pressure9am\") - min_P9am) / (max_P9am -min_P9am)) * (maxPRange - minPRange)) + minPRange)\n",
    "/*.drop(\"Pressure9am\")\n",
    "    .withColumnRenamed(\"Pressure9amTmp\", \"Pressure9am\") */"
   ]
  },
  {
   "cell_type": "code",
   "execution_count": 13,
   "metadata": {},
   "outputs": [
    {
     "data": {
      "text/plain": [
       "df7: org.apache.spark.sql.DataFrame = [Date: timestamp, Location: string ... 28 more fields]\n"
      ]
     },
     "execution_count": 13,
     "metadata": {},
     "output_type": "execute_result"
    }
   ],
   "source": [
    "val df7 = df6.withColumn(\"date_Sc\", df6(\"date\").cast(DateType))"
   ]
  },
  {
   "cell_type": "code",
   "execution_count": 14,
   "metadata": {},
   "outputs": [
    {
     "data": {
      "text/plain": [
       "df8: org.apache.spark.sql.DataFrame = [Date: timestamp, Location: string ... 29 more fields]\n",
       "df9: org.apache.spark.sql.DataFrame = [Date: timestamp, Location: string ... 30 more fields]\n",
       "df10: org.apache.spark.sql.DataFrame = [Date: timestamp, Location: string ... 31 more fields]\n"
      ]
     },
     "execution_count": 14,
     "metadata": {},
     "output_type": "execute_result"
    }
   ],
   "source": [
    "val df8 = df7.withColumn(\"date-day_Sc\", dayofmonth(df7(\"date_Sc\")))\n",
    "val df9 = df8.withColumn(\"date-month_Sc\", month(df8(\"date_Sc\")))\n",
    "val df10 = df9.withColumn(\"date-year_Sc\", year(df9(\"date_Sc\")))"
   ]
  },
  {
   "cell_type": "code",
   "execution_count": null,
   "metadata": {},
   "outputs": [],
   "source": []
  },
  {
   "cell_type": "code",
   "execution_count": 19,
   "metadata": {},
   "outputs": [],
   "source": [
    "df10.coalesce(1)\n",
    "      .write\n",
    "      .option(\"header\",\"true\")\n",
    "      .option(\"sep\",\",\")\n",
    "      .mode(\"overwrite\")\n",
    "      .csv(\"data-cleanup\")"
   ]
  },
  {
   "cell_type": "code",
   "execution_count": 20,
   "metadata": {},
   "outputs": [
    {
     "name": "stdout",
     "output_type": "stream",
     "text": [
      "_SUCCESS  part-00000-33387aa0-1431-4692-bb85-e6b4f5bf702b-c000.csv\r\n",
      "\n"
     ]
    }
   ],
   "source": [
    "!ls /home/data-cleanup"
   ]
  },
  {
   "cell_type": "code",
   "execution_count": 21,
   "metadata": {},
   "outputs": [],
   "source": [
    "!mv /home/data-cleanup/*.csv /home/weatherAUS-clean-FINAL.csv"
   ]
  },
  {
   "cell_type": "code",
   "execution_count": 23,
   "metadata": {},
   "outputs": [
    {
     "name": "stdout",
     "output_type": "stream",
     "text": [
      "142194 weatherAUS-clean-FINAL.csv\n",
      "\n",
      "142194 wrangle_final_for_yury.csv\n",
      "\n"
     ]
    }
   ],
   "source": [
    "!wc -l   weatherAUS-clean-FINAL.csv\n",
    "!wc -l   wrangle_final_for_yury.csv"
   ]
  },
  {
   "cell_type": "code",
   "execution_count": 24,
   "metadata": {},
   "outputs": [],
   "source": [
    "!rm -r /home/data-cleanup/"
   ]
  },
  {
   "cell_type": "code",
   "execution_count": 25,
   "metadata": {},
   "outputs": [
    {
     "name": "stdout",
     "output_type": "stream",
     "text": [
      "Warning: Permanently added '10.0.2.15' (ECDSA) to the list of known hosts.\n",
      "\n",
      "\n",
      "\n",
      "\n"
     ]
    }
   ],
   "source": [
    "!ssh yury@10.0.2.15 \"docker cp bd_cont:/home/data-cleanup.ipynb /home/yury/Downloads/FIT5202-Project/big_data_tutorials/data-cleanup.ipynb\""
   ]
  },
  {
   "cell_type": "code",
   "execution_count": 27,
   "metadata": {},
   "outputs": [
    {
     "name": "stdout",
     "output_type": "stream",
     "text": [
      "Warning: Permanently added '10.0.2.15' (ECDSA) to the list of known hosts.\n",
      "\n",
      "\n",
      "\n",
      "\n"
     ]
    }
   ],
   "source": [
    "!ssh yury@10.0.2.15 \"docker cp bd_cont:/home/weatherAUS-clean-FINAL.csv /home/yury/Downloads/FIT5202-Project/big_data_tutorials/weatherAUS-clean-FINAL.csv\""
   ]
  },
  {
   "cell_type": "code",
   "execution_count": null,
   "metadata": {},
   "outputs": [],
   "source": []
  }
 ],
 "metadata": {
  "kernelspec": {
   "display_name": "spylon-kernel",
   "language": "scala",
   "name": "spylon-kernel"
  },
  "language_info": {
   "codemirror_mode": "text/x-scala",
   "file_extension": ".scala",
   "help_links": [
    {
     "text": "MetaKernel Magics",
     "url": "https://metakernel.readthedocs.io/en/latest/source/README.html"
    }
   ],
   "mimetype": "text/x-scala",
   "name": "scala",
   "pygments_lexer": "scala",
   "version": "0.4.1"
  }
 },
 "nbformat": 4,
 "nbformat_minor": 4
}
