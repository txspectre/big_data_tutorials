{
 "cells": [
  {
   "cell_type": "markdown",
   "metadata": {},
   "source": [
    "\n",
    "docker cp  /home/yury/Downloads/FIT5202-Project/big_data_tutorials/normalise.ipynb bd_cont:/home/normalise.ipynb\n",
    "\n",
    "docker cp  /home/yury/Downloads/FIT5202-Project/big_data_tutorials/part-00000-dfc11f65-5287-4c73-be9f-d12bac5d8fff-c000.csv bd_cont:/home/part-00000-dfc11f65-5287-4c73-be9f-d12bac5d8fff-c000.csv"
   ]
  },
  {
   "cell_type": "code",
   "execution_count": 1,
   "metadata": {},
   "outputs": [
    {
     "data": {
      "text/plain": [
       "Intitializing Scala interpreter ..."
      ]
     },
     "metadata": {},
     "output_type": "display_data"
    },
    {
     "data": {
      "text/plain": [
       "Spark Web UI available at http://dd15ded6b68d:4042\n",
       "SparkContext available as 'sc' (version = 2.4.5, master = local[*], app id = local-1591097372530)\n",
       "SparkSession available as 'spark'\n"
      ]
     },
     "metadata": {},
     "output_type": "display_data"
    },
    {
     "data": {
      "text/plain": [
       "import org.apache.spark.mllib.linalg.Vectors\n",
       "import org.apache.spark.ml.feature.MinMaxScaler\n",
       "import org.apache.spark.sql.functions.udf\n",
       "import org.apache.spark.ml.feature.VectorAssembler\n",
       "import org.apache.spark.sql.types.DoubleType\n"
      ]
     },
     "execution_count": 1,
     "metadata": {},
     "output_type": "execute_result"
    }
   ],
   "source": [
    "import org.apache.spark.mllib.linalg.Vectors\n",
    "import org.apache.spark.ml.feature.MinMaxScaler\n",
    "import org.apache.spark.sql.functions.udf\n",
    "import org.apache.spark.ml.feature.VectorAssembler\n",
    "import org.apache.spark.sql.types.DoubleType"
   ]
  },
  {
   "cell_type": "code",
   "execution_count": 2,
   "metadata": {},
   "outputs": [
    {
     "data": {
      "text/plain": [
       "weather_org_df: org.apache.spark.sql.DataFrame = [Date: timestamp, Location: string ... 23 more fields]\n"
      ]
     },
     "execution_count": 2,
     "metadata": {},
     "output_type": "execute_result"
    }
   ],
   "source": [
    "val weather_org_df = spark.\n",
    "        read.\n",
    "        option(\"inferSchema\", \"true\").\n",
    "        option(\"header\",\"true\").\n",
    "        option(\"mode\",\"DROPMALFORMED\").\n",
    "        option(\"delimiter\", \",\").\n",
    "        csv(\"part-00000-dfc11f65-5287-4c73-be9f-d12bac5d8fff-c000.csv\")"
   ]
  },
  {
   "cell_type": "code",
   "execution_count": 3,
   "metadata": {},
   "outputs": [],
   "source": [
    "weather_org_df.registerTempTable(\"Aus_Rain_Data\")"
   ]
  },
  {
   "cell_type": "markdown",
   "metadata": {},
   "source": [
    "<font color='red'>\n",
    "YURY =====================================      MY CODE STARTS     =====================================\n",
    " </font>"
   ]
  },
  {
   "cell_type": "code",
   "execution_count": 4,
   "metadata": {},
   "outputs": [
    {
     "data": {
      "text/plain": [
       "df0: org.apache.spark.sql.DataFrame = [Date: timestamp, Location: string ... 23 more fields]\n"
      ]
     },
     "execution_count": 4,
     "metadata": {},
     "output_type": "execute_result"
    }
   ],
   "source": [
    "val df0 = spark.sql(\"select * from Aus_Rain_Data\")"
   ]
  },
  {
   "cell_type": "code",
   "execution_count": 5,
   "metadata": {},
   "outputs": [
    {
     "data": {
      "text/plain": [
       "df1: org.apache.spark.sql.DataFrame = [Date: timestamp, Location: string ... 23 more fields]\n",
       "df2: org.apache.spark.sql.DataFrame = [Date: timestamp, Location: string ... 23 more fields]\n"
      ]
     },
     "execution_count": 5,
     "metadata": {},
     "output_type": "execute_result"
    }
   ],
   "source": [
    "val df1 = df0.withColumn(\"Pressure9amTmp\", df0(\"Pressure9am\").cast(DoubleType))\n",
    "    .drop(\"Pressure9am\")\n",
    "    .withColumnRenamed(\"Pressure9amTmp\", \"Pressure9am\")\n",
    "\n",
    "val df2 = df1.withColumn(\"Pressure3pmTmp\", df1(\"Pressure3pm\").cast(DoubleType))\n",
    "    .drop(\"Pressure3pm\")\n",
    "    .withColumnRenamed(\"Pressure3pmTmp\", \"Pressure3pm\")"
   ]
  },
  {
   "cell_type": "code",
   "execution_count": 6,
   "metadata": {},
   "outputs": [
    {
     "name": "stdout",
     "output_type": "stream",
     "text": [
      "2020-06-02 11:29:49,687 WARN  [Thread-4] util.Utils (Logging.scala:logWarning(66)) - Truncated the string representation of a plan since it was too large. This behavior can be adjusted by setting 'spark.debug.maxToStringFields' in SparkEnv.conf.\n"
     ]
    },
    {
     "data": {
      "text/plain": [
       "min_P9am: Double = 980.5\n",
       "max_P9am: Double = 1041.0\n"
      ]
     },
     "execution_count": 6,
     "metadata": {},
     "output_type": "execute_result"
    }
   ],
   "source": [
    "val min_P9am = df2.agg(min(\"Pressure9am\") as \"min_P9am\").select(col(\"min_P9am\")).first.getDouble(0)\n",
    "val max_P9am = df2.agg(max(\"Pressure9am\") as \"max_P9am\").select(col(\"max_P9am\")).first.getDouble(0)"
   ]
  },
  {
   "cell_type": "code",
   "execution_count": 7,
   "metadata": {},
   "outputs": [
    {
     "data": {
      "text/plain": [
       "min_P3pm: Double = 977.1\n",
       "max_P3pm: Double = 1039.6\n"
      ]
     },
     "execution_count": 7,
     "metadata": {},
     "output_type": "execute_result"
    }
   ],
   "source": [
    "val min_P3pm = df2.agg(min(\"Pressure3pm\") as \"min_P3pm\").select(col(\"min_P3pm\")).first.getDouble(0)\n",
    "val max_P3pm = df2.agg(max(\"Pressure3pm\") as \"max_P3pm\").select(col(\"max_P3pm\")).first.getDouble(0)"
   ]
  },
  {
   "cell_type": "code",
   "execution_count": 8,
   "metadata": {},
   "outputs": [
    {
     "data": {
      "text/plain": [
       "minPRange: Int = 0\n",
       "maxPRange: Int = 1\n"
      ]
     },
     "execution_count": 8,
     "metadata": {},
     "output_type": "execute_result"
    }
   ],
   "source": [
    "val minPRange = 0    //from the report  /* 0 970.0\n",
    "val maxPRange = 1   //from the report  /* 1 970.0"
   ]
  },
  {
   "cell_type": "markdown",
   "metadata": {},
   "source": [
    "\\begin{equation}\n",
    "  Rescaled_{9am} = \\frac{Pressure_i - Pressure_{min9am}}{Pressure_{max9am} - Pressure_{min9am}} * (maxPressureRange - minPressureRange) + minPressureRange\n",
    "\\end{equation}"
   ]
  },
  {
   "cell_type": "code",
   "execution_count": 9,
   "metadata": {
    "scrolled": true
   },
   "outputs": [
    {
     "data": {
      "text/plain": [
       "df3: org.apache.spark.sql.DataFrame = [Date: timestamp, Location: string ... 24 more fields]\n"
      ]
     },
     "execution_count": 9,
     "metadata": {},
     "output_type": "execute_result"
    }
   ],
   "source": [
    "val df3 = df2.withColumn(\"Pressure3pm_Sc\", \n",
    "    (((df2(\"Pressure3pm\") - min_P3pm) / (max_P3pm -min_P3pm)) * (maxPRange - minPRange)) + minPRange)\n",
    "/*    .drop(\"Pressure3pm\")\n",
    "    .withColumnRenamed(\"Pressure3pmTmp\", \"Pressure3pm\") */"
   ]
  },
  {
   "cell_type": "code",
   "execution_count": 10,
   "metadata": {
    "scrolled": true
   },
   "outputs": [
    {
     "data": {
      "text/plain": [
       "df4: org.apache.spark.sql.DataFrame = [Date: timestamp, Location: string ... 25 more fields]\n"
      ]
     },
     "execution_count": 10,
     "metadata": {},
     "output_type": "execute_result"
    }
   ],
   "source": [
    "val df4 = df3.withColumn(\"Pressure9am_Sc\", \n",
    "    (((df2(\"Pressure9am\") - min_P9am) / (max_P9am -min_P9am)) * (maxPRange - minPRange)) + minPRange)\n",
    "\n",
    "/*.drop(\"Pressure9am\")\n",
    "    .withColumnRenamed(\"Pressure9amTmp\", \"Pressure9am\") */"
   ]
  },
  {
   "cell_type": "code",
   "execution_count": 11,
   "metadata": {},
   "outputs": [],
   "source": [
    "df4.coalesce(1)\n",
    "      .write\n",
    "      .option(\"header\",\"true\")\n",
    "      .option(\"sep\",\",\")\n",
    "      .mode(\"overwrite\")\n",
    "      .csv(\"normalised\")"
   ]
  },
  {
   "cell_type": "code",
   "execution_count": 12,
   "metadata": {
    "scrolled": true
   },
   "outputs": [
    {
     "name": "stdout",
     "output_type": "stream",
     "text": [
      "_SUCCESS  part-00000-783a7de0-de76-471b-ae96-4e1854e7ac04-c000.csv\r\n",
      "\n"
     ]
    }
   ],
   "source": [
    "!ls /home/normalised"
   ]
  },
  {
   "cell_type": "code",
   "execution_count": 13,
   "metadata": {},
   "outputs": [],
   "source": [
    "!mv /home/normalised/*.csv /home/normalised/weatherAUS_N.csv"
   ]
  },
  {
   "cell_type": "code",
   "execution_count": 14,
   "metadata": {},
   "outputs": [],
   "source": [
    "!mv /home/normalised/weatherAUS_N.csv /home/weatherAUS_N.csv"
   ]
  },
  {
   "cell_type": "code",
   "execution_count": 15,
   "metadata": {},
   "outputs": [
    {
     "name": "stdout",
     "output_type": "stream",
     "text": [
      "142194 weatherAUS_N.csv\n",
      "\n",
      "wc: weatherAUS.csv: No such file or directory\n",
      "\n"
     ]
    }
   ],
   "source": [
    "!wc -l   weatherAUS_N.csv\n",
    "!wc -l   weatherAUS.csv"
   ]
  },
  {
   "cell_type": "code",
   "execution_count": 16,
   "metadata": {},
   "outputs": [],
   "source": [
    "!rm -r /home/normalised/"
   ]
  },
  {
   "cell_type": "markdown",
   "metadata": {},
   "source": [
    "<font color='red'>\n",
    "YURY=====================================      MY CODE ENDS     =====================================\n",
    " </font>"
   ]
  },
  {
   "cell_type": "markdown",
   "metadata": {},
   "source": [
    "\n",
    "docker cp bd_cont:/home/normalise.ipynb /home/yury/Downloads/FIT5202-Project/big_data_tutorials/normalise.ipynb\n",
    "\n",
    "docker cp bd_cont:/home/weatherAUS_N.csv /home/yury/Downloads/FIT5202-Project/big_data_tutorials/weatherAUS_N.csv\n",
    "\n"
   ]
  }
 ],
 "metadata": {
  "kernelspec": {
   "display_name": "spylon-kernel",
   "language": "scala",
   "name": "spylon-kernel"
  },
  "language_info": {
   "codemirror_mode": "text/x-scala",
   "file_extension": ".scala",
   "help_links": [
    {
     "text": "MetaKernel Magics",
     "url": "https://metakernel.readthedocs.io/en/latest/source/README.html"
    }
   ],
   "mimetype": "text/x-scala",
   "name": "scala",
   "pygments_lexer": "scala",
   "version": "0.4.1"
  }
 },
 "nbformat": 4,
 "nbformat_minor": 4
}
